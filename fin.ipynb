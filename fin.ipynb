{
 "cells": [
  {
   "cell_type": "code",
   "execution_count": 73,
   "metadata": {},
   "outputs": [],
   "source": [
    "import kagglehub\n",
    "import pandas as pd\n",
    "from sklearn.model_selection import train_test_split"
   ]
  },
  {
   "cell_type": "code",
   "execution_count": 74,
   "metadata": {},
   "outputs": [
    {
     "name": "stdout",
     "output_type": "stream",
     "text": [
      "Path to dataset files: C:\\Users\\Nixon Showalter\\.cache\\kagglehub\\datasets\\mobasshir\\yelpdata\\versions\\2\n"
     ]
    }
   ],
   "source": [
    "# Get dataset from Kaggle downloaded on any machine\n",
    "path = kagglehub.dataset_download(\"mobasshir/yelpdata\")\n",
    "\n",
    "print(\"Path to dataset files:\", path)"
   ]
  },
  {
   "cell_type": "code",
   "execution_count": 59,
   "metadata": {},
   "outputs": [],
   "source": [
    "bus_df = pd.read_csv(f\"{path}/yelp_business.csv\")\n",
    "review_df = pd.read_csv(f\"{path}/yelp_review_arizona.csv\")"
   ]
  },
  {
   "cell_type": "code",
   "execution_count": 60,
   "metadata": {},
   "outputs": [
    {
     "name": "stdout",
     "output_type": "stream",
     "text": [
      "Index(['business_id', 'name', 'address', 'city', 'state', 'postal_code',\n",
      "       'latitude', 'longitude', 'stars', 'review_count', 'is_open',\n",
      "       'attributes', 'categories', 'hours'],\n",
      "      dtype='object')\n",
      "Index(['review_id', 'user_id', 'business_id', 'text', 'stars', 'date'], dtype='object')\n"
     ]
    }
   ],
   "source": [
    "print(bus_df.columns)\n",
    "print(review_df.columns)"
   ]
  },
  {
   "cell_type": "code",
   "execution_count": 71,
   "metadata": {},
   "outputs": [
    {
     "name": "stdout",
     "output_type": "stream",
     "text": [
      "Business Data Pre-Cleaning:  (192609, 14)\n",
      "Business Data Post-Cleaning:  (26524, 14)\n"
     ]
    }
   ],
   "source": [
    "print(\"Business Data Pre-Cleaning: \", bus_df.shape)\n",
    "\n",
    "clean_bus_df = bus_df[\n",
    "    (bus_df['review_count'] > 50) &\n",
    "    (bus_df['attributes'].size > 3)\n",
    "]\n",
    "\n",
    "print(\"Business Data Post-Cleaning: \", clean_bus_df.shape)\n"
   ]
  },
  {
   "cell_type": "code",
   "execution_count": 72,
   "metadata": {},
   "outputs": [
    {
     "name": "stdout",
     "output_type": "stream",
     "text": [
      "Amount of Training Data: (19893, 14)\n",
      "Amount of Testing Data: (6631, 14)\n"
     ]
    }
   ],
   "source": [
    "train_df, test_df = train_test_split(clean_bus_df, test_size=0.25, random_state=9)\n",
    "\n",
    "print(\"Amount of Training Data:\", train_df.shape)\n",
    "print(\"Amount of Testing Data:\", test_df.shape)\n"
   ]
  }
 ],
 "metadata": {
  "kernelspec": {
   "display_name": "Python 3",
   "language": "python",
   "name": "python3"
  },
  "language_info": {
   "codemirror_mode": {
    "name": "ipython",
    "version": 3
   },
   "file_extension": ".py",
   "mimetype": "text/x-python",
   "name": "python",
   "nbconvert_exporter": "python",
   "pygments_lexer": "ipython3",
   "version": "3.10.11"
  }
 },
 "nbformat": 4,
 "nbformat_minor": 2
}
